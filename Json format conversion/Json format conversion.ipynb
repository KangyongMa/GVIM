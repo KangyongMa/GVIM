{
 "cells": [
  {
   "cell_type": "code",
   "execution_count": 7,
   "id": "f4f7f64d",
   "metadata": {},
   "outputs": [],
   "source": [
    "import json\n",
    "\n",
    "with open('reagent_prediction.json',encoding='utf-8') as f:\n",
    "    data = json.load(f)\n",
    "\n",
    "\n",
    "for obj in data:\n",
    "    if \"metadata\" in obj:\n",
    "        del obj[\"metadata\"]\n",
    "\n",
    "\n",
    "with open('newreagent_prediction.json', 'w') as f:\n",
    "    json.dump(data, f, indent=4)"
   ]
  },
  {
   "cell_type": "code",
   "execution_count": null,
   "id": "d3a655f0",
   "metadata": {},
   "outputs": [],
   "source": [
    "import json\n",
    "import pandas as pd\n",
    "\n",
    "\n",
    "with open('newproperty_prediction.json', 'r') as infile:\n",
    "    data = json.load(infile)\n",
    "\n",
    "\n",
    "converted_data = []\n",
    "\n",
    "for item in data:\n",
    "    human_value = f\"{item['instruction']} {item['input']}\"\n",
    "    gpt_value = item['output']\n",
    "    \n",
    "  \n",
    "    converted_item = {\n",
    "        \"from\": \"human\",\n",
    "        \"value\": human_value\n",
    "    }\n",
    "    converted_data.append(converted_item)\n",
    "    \n",
    "    converted_item = {\n",
    "        \"from\": \"gpt\",\n",
    "        \"value\": gpt_value\n",
    "    }\n",
    "    converted_data.append(converted_item)\n",
    "\n",
    "\n",
    "df = pd.DataFrame(converted_data)\n",
    "\n",
    "\n",
    "df['from'] = df['from'].astype(str)\n",
    "df['value'] = df['value'].astype(str)\n",
    "\n",
    "\n",
    "df.to_parquet('outputnewproperty_prediction.parquet', engine='pyarrow')\n",
    "\n"
   ]
  },
  {
   "cell_type": "code",
   "execution_count": null,
   "id": "33c6301b-c63e-40f2-a4dc-8c2bb8476f9c",
   "metadata": {},
   "outputs": [],
   "source": [
    "import pandas as pd\n",
    "import json\n",
    "\n",
    "with open('outputnewretrosynthesis.json', 'r') as file:\n",
    "    data = json.load(file)\n",
    "\n",
    "\n",
    "converted_data = []\n",
    "for item in data:\n",
    "    conversation = [\n",
    "        {\"from\": \"human\", \"value\": item[\"value_human\"]},\n",
    "        {\"from\": \"gpt\", \"value\": item[\"value_gpt\"]}\n",
    "    ]\n",
    "    converted_data.append({\"conversations\": json.dumps(conversation)})\n",
    "\n",
    "\n",
    "df = pd.DataFrame(converted_data)\n",
    "\n",
    "\n",
    "df.to_parquet('outputnewretrosynthesis.parquet', engine='pyarrow', index=False)\n",
    "\n",
    "print(\"Data successfully converted to Parquet format with 'conversations' column and saved as 'outputnewproperty_prediction.parquet'\")\n"
   ]
  }
 ],
 "metadata": {
  "kernelspec": {
   "display_name": "Python 3 (ipykernel)",
   "language": "python",
   "name": "python3"
  },
  "language_info": {
   "codemirror_mode": {
    "name": "ipython",
    "version": 3
   },
   "file_extension": ".py",
   "mimetype": "text/x-python",
   "name": "python",
   "nbconvert_exporter": "python",
   "pygments_lexer": "ipython3",
   "version": "3.11.7"
  }
 },
 "nbformat": 4,
 "nbformat_minor": 5
}
