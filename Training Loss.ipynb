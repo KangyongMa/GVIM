{
 "cells": [
  {
   "cell_type": "code",
   "execution_count": null,
   "id": "33d34c39-8063-406f-99ae-ff94d6b2e0a3",
   "metadata": {},
   "outputs": [],
   "source": [
    "import pandas as pd\n",
    "import matplotlib.pyplot as plt\n",
    "\n",
    "# Read the CSV file\n",
    "df = pd.read_csv('E://HuaweiMoveData//Users//makangyong//Desktop//TrainingLoss.csv')\n",
    "\n",
    "# Set figure size and font\n",
    "plt.figure(figsize=(14, 8))\n",
    "plt.rcParams[\"font.family\"] = \"Times New Roman\"\n",
    "\n",
    "# Set the background color to white\n",
    "plt.rcParams['axes.facecolor'] = 'white'\n",
    "\n",
    "# Plot loss curves for each model\n",
    "models = ['Phi-3 Medium', 'Llama3', 'Mistral', 'Gemma', 'Gemma2', 'Phi-3', 'MistralNemo', 'Llama3.1']\n",
    "colors = ['cyan', 'purple', 'blue', 'green', 'orange', 'red', 'magenta', 'brown']\n",
    "markers = ['v', '^', 's', 'x', 'd', 'o', '*', 'p']\n",
    "\n",
    "for model, color, marker in zip(models, colors, markers):\n",
    "    plt.plot(range(1, len(df) + 1), df[model], label=model, color=color, marker=marker, markevery=1, markersize=8)\n",
    "\n",
    "# Set title and labels\n",
    "plt.title('Training Loss of LLMs', fontsize=16)\n",
    "plt.xlabel('Steps', fontsize=14)\n",
    "plt.ylabel('Training Loss', fontsize=14)\n",
    "\n",
    "# Set x-axis ticks\n",
    "plt.xticks(range(0, len(df) + 1, 10))\n",
    "\n",
    "# Display legend\n",
    "plt.legend(fontsize=10)\n",
    "\n",
    "# Add grid lines\n",
    "plt.grid(True, linestyle='--', alpha=0.7, color='gray')\n",
    "\n",
    "# Adjust layout\n",
    "plt.tight_layout()\n",
    "\n",
    "# Save the figure\n",
    "plt.savefig('TrainingLoss.png', dpi=600, facecolor='white')\n",
    "\n",
    "# Display the figure\n",
    "plt.show()"
   ]
  }
 ],
 "metadata": {
  "kernelspec": {
   "display_name": "Python 3 (ipykernel)",
   "language": "python",
   "name": "python3"
  },
  "language_info": {
   "codemirror_mode": {
    "name": "ipython",
    "version": 3
   },
   "file_extension": ".py",
   "mimetype": "text/x-python",
   "name": "python",
   "nbconvert_exporter": "python",
   "pygments_lexer": "ipython3",
   "version": "3.11.7"
  }
 },
 "nbformat": 4,
 "nbformat_minor": 5
}
